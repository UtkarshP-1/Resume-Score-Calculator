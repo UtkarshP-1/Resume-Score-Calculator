{
 "cells": [
  {
   "cell_type": "code",
   "execution_count": 52,
   "metadata": {},
   "outputs": [],
   "source": [
    "# store resume content in a variable\n",
    "resume = input(\"Enter Resume\")"
   ]
  },
  {
   "cell_type": "code",
   "execution_count": 53,
   "metadata": {},
   "outputs": [],
   "source": [
    "# store job description in a variable\n",
    "job_description = input(\"Enter Job Description\")"
   ]
  },
  {
   "cell_type": "code",
   "execution_count": 54,
   "metadata": {},
   "outputs": [],
   "source": [
    "from sklearn.feature_extraction.text import CountVectorizer\n",
    "\n",
    "cv = CountVectorizer()\n",
    "\n",
    "count_matrix = cv.fit_transform([resume, job_description])\n",
    "\n",
    "# print(count_matrix)"
   ]
  },
  {
   "cell_type": "code",
   "execution_count": 55,
   "metadata": {},
   "outputs": [
    {
     "name": "stdout",
     "output_type": "stream",
     "text": [
      "35.76 %\n"
     ]
    }
   ],
   "source": [
    "from sklearn.metrics.pairwise import cosine_similarity\n",
    "\n",
    "# store cosine similarity output in a variable\n",
    "similarity_matrix = cosine_similarity(count_matrix)\n",
    "\n",
    "# print similarity score in proper format\n",
    "print(f\"{round(similarity_matrix[0][1]*100,2)} %\")"
   ]
  }
 ],
 "metadata": {
  "interpreter": {
   "hash": "eb4e18ffc8fef068101e2ae4bfeb09ccbbeaf04608bbd2ec444aa5cbc601d090"
  },
  "kernelspec": {
   "display_name": "Python 3.9.7 64-bit",
   "language": "python",
   "name": "python3"
  },
  "language_info": {
   "codemirror_mode": {
    "name": "ipython",
    "version": 3
   },
   "file_extension": ".py",
   "mimetype": "text/x-python",
   "name": "python",
   "nbconvert_exporter": "python",
   "pygments_lexer": "ipython3",
   "version": "3.9.7"
  },
  "orig_nbformat": 4
 },
 "nbformat": 4,
 "nbformat_minor": 2
}
